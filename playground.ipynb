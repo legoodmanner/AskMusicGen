{
 "cells": [
  {
   "cell_type": "code",
   "execution_count": 1,
   "metadata": {},
   "outputs": [
    {
     "name": "stderr",
     "output_type": "stream",
     "text": [
      "/home/lego/.local/lib/python3.10/site-packages/tqdm/auto.py:21: TqdmWarning: IProgress not found. Please update jupyter and ipywidgets. See https://ipywidgets.readthedocs.io/en/stable/user_install.html\n",
      "  from .autonotebook import tqdm as notebook_tqdm\n",
      "/home/lego/.local/lib/python3.10/site-packages/torch/nn/utils/weight_norm.py:134: FutureWarning: `torch.nn.utils.weight_norm` is deprecated in favor of `torch.nn.utils.parametrizations.weight_norm`.\n",
      "  WeightNorm.apply(module, name, dim)\n"
     ]
    }
   ],
   "source": [
    "import torch\n",
    "from transformers import AutoProcessor, MusicgenForConditionalGeneration\n",
    "\n",
    "processor = AutoProcessor.from_pretrained(\"facebook/musicgen-small\")\n",
    "model = MusicgenForConditionalGeneration.from_pretrained(\"facebook/musicgen-small\").cuda()"
   ]
  },
  {
   "cell_type": "code",
   "execution_count": 2,
   "metadata": {},
   "outputs": [
    {
     "name": "stdout",
     "output_type": "stream",
     "text": [
      "torch.Size([2, 1, 1920000])\n",
      "encode complete\n"
     ]
    },
    {
     "data": {
      "text/plain": [
       "(tensor([[[ 1.0411,  0.0592, -0.3752,  ...,  2.2531, -0.9834,  0.1631],\n",
       "          [ 0.0884,  3.3004,  0.6958,  ...,  1.4224,  0.3608,  0.0968],\n",
       "          [ 0.3378,  1.2210,  0.1548,  ..., -0.0409, -0.1516, -2.5266],\n",
       "          ...,\n",
       "          [ 1.1089, -0.7747, -0.0354,  ...,  2.4645, -0.4377, -1.3081],\n",
       "          [ 1.0604, -0.5641, -0.7406,  ...,  2.7732, -0.3431, -1.1994],\n",
       "          [ 0.8389, -0.3158, -1.3036,  ...,  3.0228, -0.2802, -0.8711]],\n",
       " \n",
       "         [[ 1.0411,  0.0592, -0.3752,  ...,  2.2531, -0.9834,  0.1631],\n",
       "          [ 0.0884,  3.3004,  0.6958,  ...,  1.4224,  0.3608,  0.0968],\n",
       "          [ 0.3378,  1.2210,  0.1548,  ..., -0.0409, -0.1516, -2.5266],\n",
       "          ...,\n",
       "          [ 1.1089, -0.7747, -0.0354,  ...,  2.4645, -0.4377, -1.3081],\n",
       "          [ 1.0604, -0.5641, -0.7406,  ...,  2.7732, -0.3431, -1.1994],\n",
       "          [ 0.8389, -0.3158, -1.3036,  ...,  3.0228, -0.2802, -0.8711]]],\n",
       "        device='cuda:0'),)"
      ]
     },
     "execution_count": 2,
     "metadata": {},
     "output_type": "execute_result"
    }
   ],
   "source": [
    "import torchaudio\n",
    "wav, sr = torchaudio.load('test.wav')\n",
    "wav = torchaudio.functional.resample(wav, sr, 32000)\n",
    "wav = wav[None,:].repeat([2,1,1]).cuda()\n",
    "print(wav.shape)\n",
    "\n",
    "# inputs = processor(audio=wav.squeeze(), sampling_rate=32000,  return_tensors=\"pt\",)\n",
    "with torch.no_grad():\n",
    "    output = model.audio_encoder.encode(\n",
    "        input_values=wav,\n",
    "        padding_mask=torch.ones_like(wav),\n",
    "    )\n",
    "    audio_codes = output['audio_codes']\n",
    "    frames, bsz, codebooks, seq_len = audio_codes.shape\n",
    "    decoder_input_ids = audio_codes[0, ...].reshape(bsz * codebooks, seq_len)\n",
    "    decoder = model.decoder.get_decoder()\n",
    "\n",
    "print('encode complete')\n",
    "with torch.no_grad():\n",
    "    decoder_outputs = decoder(\n",
    "            input_ids=decoder_input_ids,\n",
    "            attention_mask=None,\n",
    "            encoder_attention_mask=None,\n",
    "            encoder_hidden_states=None,\n",
    "            head_mask=None,\n",
    "            cross_attn_head_mask=None,\n",
    "            past_key_values=None,\n",
    "            inputs_embeds=None,\n",
    "            use_cache=False,\n",
    "            output_attentions=None,\n",
    "            output_hidden_states=None,\n",
    "            return_dict=False,\n",
    "        )\n",
    "\n",
    "decoder_outputs\n",
    "# frames, bsz, codebooks, seq_len = audio_codes.shape\n"
   ]
  },
  {
   "cell_type": "code",
   "execution_count": 1,
   "metadata": {},
   "outputs": [
    {
     "name": "stderr",
     "output_type": "stream",
     "text": [
      "/home/lego/.local/lib/python3.10/site-packages/tqdm/auto.py:21: TqdmWarning: IProgress not found. Please update jupyter and ipywidgets. See https://ipywidgets.readthedocs.io/en/stable/user_install.html\n",
      "  from .autonotebook import tqdm as notebook_tqdm\n",
      "/home/lego/.local/lib/python3.10/site-packages/torch/nn/utils/weight_norm.py:134: FutureWarning: `torch.nn.utils.weight_norm` is deprecated in favor of `torch.nn.utils.parametrizations.weight_norm`.\n",
      "  WeightNorm.apply(module, name, dim)\n"
     ]
    }
   ],
   "source": [
    "from models.gen_models import get_gen_model\n",
    "from omegaconf import OmegaConf\n",
    "import torchaudio\n",
    "modelconfig = {\n",
    "    'name': 'musicgen',\n",
    "    'hparams': None\n",
    "}\n",
    "wav, sr = torchaudio.load('/home/lego/Gatech/Rupak/test.wav')\n",
    "wav = torchaudio.functional.resample(wav, sr, 32000).cuda()\n",
    "modelconfig= OmegaConf.create(modelconfig)\n",
    "repr_extrat = get_gen_model(modelconfig).cuda()\n",
    "info = repr_extrat(wav)\n"
   ]
  },
  {
   "cell_type": "code",
   "execution_count": null,
   "metadata": {},
   "outputs": [
    {
     "ename": "",
     "evalue": "",
     "output_type": "error",
     "traceback": [
      "\u001b[1;31mRunning cells with '7100 (Python 3.9.19)' requires the ipykernel package.\n",
      "\u001b[1;31mRun the following command to install 'ipykernel' into the Python environment. \n",
      "\u001b[1;31mCommand: 'conda install -p /home/hice1/ywu3038/scratch/.conda/envs/7100 ipykernel --update-deps --force-reinstall'"
     ]
    }
   ],
   "source": [
    "import os\n",
    "import pickle\n",
    "from tqdm import tqdm\n",
    "import numpy as np\n",
    "\n",
    "def process_directory(input_dir, output_base_dir):\n",
    "    for filename in tqdm(os.listdir(input_dir)):\n",
    "        if filename.endswith('.pkl'):\n",
    "            input_path = os.path.join(input_dir, filename)\n",
    "            \n",
    "            with open(input_path, 'rb') as f:\n",
    "                data = pickle.load(f)\n",
    "            \n",
    "            repr_data = data['repr']\n",
    "            num_layers = repr_data.shape[0]\n",
    "            \n",
    "            for layer in range(num_layers):\n",
    "                layer_data = repr_data[layer]  # Shape: [seq_len, dim]\n",
    "                \n",
    "                output_dir = os.path.join(output_base_dir, str(layer))\n",
    "                os.makedirs(output_dir, exist_ok=True)\n",
    "                \n",
    "                output_path = os.path.join(output_dir, filename)\n",
    "                \n",
    "                with open(output_path, 'wb') as f:\n",
    "                    pickle.dump({'repr': layer_data, 'meta': data['meta']}, f)\n",
    "\n",
    "def main():\n",
    "    base_input_dir = '/home/hice1/ywu3038/scratch/GTZAN/MusicGenSmall'\n",
    "    base_output_dir = '/home/hice1/ywu3038/scratch/GTZAN/MusicGenSmall'\n",
    "    \n",
    "    for split in ['train', 'valid', 'test']:\n",
    "        print(f\"Processing {split} directory...\")\n",
    "        input_dir = os.path.join(base_input_dir, split)\n",
    "        output_dir = os.path.join(base_output_dir, split)\n",
    "        process_directory(input_dir, output_dir)\n",
    "    \n",
    "    print(\"Processing complete!\")\n",
    "\n",
    "if __name__ == '__main__':\n",
    "    main()"
   ]
  },
  {
   "cell_type": "code",
   "execution_count": null,
   "metadata": {},
   "outputs": [],
   "source": []
  }
 ],
 "metadata": {
  "kernelspec": {
   "display_name": "base",
   "language": "python",
   "name": "python3"
  },
  "language_info": {
   "codemirror_mode": {
    "name": "ipython",
    "version": 3
   },
   "file_extension": ".py",
   "mimetype": "text/x-python",
   "name": "python",
   "nbconvert_exporter": "python",
   "pygments_lexer": "ipython3",
   "version": "3.9.19"
  }
 },
 "nbformat": 4,
 "nbformat_minor": 2
}
